{
  "nbformat": 4,
  "nbformat_minor": 0,
  "metadata": {
    "colab": {
      "name": "Binary_Clssification.ipynb",
      "provenance": [],
      "authorship_tag": "ABX9TyOFdIaZ8KyP5/WuVb1Vy+Q7",
      "include_colab_link": true
    },
    "kernelspec": {
      "name": "python3",
      "display_name": "Python 3"
    },
    "language_info": {
      "name": "python"
    }
  },
  "cells": [
    {
      "cell_type": "markdown",
      "metadata": {
        "id": "view-in-github",
        "colab_type": "text"
      },
      "source": [
        "<a href=\"https://colab.research.google.com/github/sumit0966/Binary-Classificatiion/blob/main/Binary_Clssification.ipynb\" target=\"_parent\"><img src=\"https://colab.research.google.com/assets/colab-badge.svg\" alt=\"Open In Colab\"/></a>"
      ]
    },
    {
      "cell_type": "code",
      "execution_count": 1,
      "metadata": {
        "colab": {
          "base_uri": "https://localhost:8080/"
        },
        "id": "HFYYfVLZircA",
        "outputId": "f6deb852-1a9a-486a-fd66-a8481479eddd"
      },
      "outputs": [
        {
          "output_type": "stream",
          "name": "stdout",
          "text": [
            "Mounted at /content/drive\n"
          ]
        }
      ],
      "source": [
        "from google.colab import drive\n",
        "drive.mount('/content/drive')"
      ]
    },
    {
      "cell_type": "code",
      "source": [
        "ls"
      ],
      "metadata": {
        "colab": {
          "base_uri": "https://localhost:8080/"
        },
        "id": "divObVDuixns",
        "outputId": "7d25d90c-153e-4727-cb11-f10fa6014146"
      },
      "execution_count": 2,
      "outputs": [
        {
          "output_type": "stream",
          "name": "stdout",
          "text": [
            "\u001b[0m\u001b[01;34mdrive\u001b[0m/  \u001b[01;34msample_data\u001b[0m/\n"
          ]
        }
      ]
    },
    {
      "cell_type": "code",
      "source": [
        "cd drive"
      ],
      "metadata": {
        "colab": {
          "base_uri": "https://localhost:8080/"
        },
        "id": "Gm1yQMz8i6NZ",
        "outputId": "4e1860a1-55bc-4ef2-c82e-32593158da2e"
      },
      "execution_count": 3,
      "outputs": [
        {
          "output_type": "stream",
          "name": "stdout",
          "text": [
            "/content/drive\n"
          ]
        }
      ]
    },
    {
      "cell_type": "code",
      "source": [
        "ls"
      ],
      "metadata": {
        "colab": {
          "base_uri": "https://localhost:8080/"
        },
        "id": "eR2oX-d8i72M",
        "outputId": "b2853eda-d485-45d3-8a9f-889de4382495"
      },
      "execution_count": 4,
      "outputs": [
        {
          "output_type": "stream",
          "name": "stdout",
          "text": [
            "\u001b[0m\u001b[01;34mMyDrive\u001b[0m/\n"
          ]
        }
      ]
    },
    {
      "cell_type": "code",
      "source": [
        "cd MyDrive/"
      ],
      "metadata": {
        "colab": {
          "base_uri": "https://localhost:8080/"
        },
        "id": "ntuXcst3i89u",
        "outputId": "4a5aea41-2b5c-46a2-eb34-9221d65df46f"
      },
      "execution_count": 5,
      "outputs": [
        {
          "output_type": "stream",
          "name": "stdout",
          "text": [
            "/content/drive/MyDrive\n"
          ]
        }
      ]
    },
    {
      "cell_type": "code",
      "source": [
        "cd dataset"
      ],
      "metadata": {
        "colab": {
          "base_uri": "https://localhost:8080/"
        },
        "id": "r2Y9xCd5i_W1",
        "outputId": "957de606-78d8-48bb-ff54-bbc1416f5e07"
      },
      "execution_count": 7,
      "outputs": [
        {
          "output_type": "stream",
          "name": "stdout",
          "text": [
            "/content/drive/MyDrive/dataset\n"
          ]
        }
      ]
    },
    {
      "cell_type": "code",
      "source": [
        "ls"
      ],
      "metadata": {
        "colab": {
          "base_uri": "https://localhost:8080/"
        },
        "id": "kMi5ndbrjAlE",
        "outputId": "e9ca14b6-38a5-43f8-c4b0-92332ec88037"
      },
      "execution_count": 8,
      "outputs": [
        {
          "output_type": "stream",
          "name": "stdout",
          "text": [
            " \u001b[0m\u001b[01;34m__MACOSX\u001b[0m/\n",
            " P16-Convolutional-Neural-Networks.zip\n",
            "\u001b[01;34m'Part 2 - Convolutional Neural Networks'\u001b[0m/\n"
          ]
        }
      ]
    },
    {
      "cell_type": "code",
      "source": [
        "cd 'Part 2 - Convolutional Neural Networks'/\n"
      ],
      "metadata": {
        "colab": {
          "base_uri": "https://localhost:8080/"
        },
        "id": "VpmTs6RqjFEu",
        "outputId": "7c7f050d-21fc-4611-8f04-3541f1265024"
      },
      "execution_count": 9,
      "outputs": [
        {
          "output_type": "stream",
          "name": "stdout",
          "text": [
            "/content/drive/MyDrive/dataset/Part 2 - Convolutional Neural Networks\n"
          ]
        }
      ]
    },
    {
      "cell_type": "code",
      "source": [
        "ls"
      ],
      "metadata": {
        "colab": {
          "base_uri": "https://localhost:8080/"
        },
        "id": "7CCp6a5ajIK7",
        "outputId": "0177fc23-7b3b-478b-c97b-2bb3fde9f955"
      },
      "execution_count": 10,
      "outputs": [
        {
          "output_type": "stream",
          "name": "stdout",
          "text": [
            "convolutional_neural_network.ipynb  convolutional_neural_network.py  \u001b[0m\u001b[01;34mdataset\u001b[0m/\n"
          ]
        }
      ]
    },
    {
      "cell_type": "code",
      "source": [
        "cd dataset"
      ],
      "metadata": {
        "colab": {
          "base_uri": "https://localhost:8080/"
        },
        "id": "UVMkBLppjJBC",
        "outputId": "d68d0b5b-dd6d-4bbf-9245-8f340bfcd318"
      },
      "execution_count": 11,
      "outputs": [
        {
          "output_type": "stream",
          "name": "stdout",
          "text": [
            "/content/drive/MyDrive/dataset/Part 2 - Convolutional Neural Networks/dataset\n"
          ]
        }
      ]
    },
    {
      "cell_type": "code",
      "source": [
        "ls"
      ],
      "metadata": {
        "colab": {
          "base_uri": "https://localhost:8080/"
        },
        "id": "2qxYx2jPjLPc",
        "outputId": "29bad6b0-c9e7-48b3-f516-3259ab2b2222"
      },
      "execution_count": 12,
      "outputs": [
        {
          "output_type": "stream",
          "name": "stdout",
          "text": [
            "\u001b[0m\u001b[01;34msingle_prediction\u001b[0m/  \u001b[01;34mtest_set\u001b[0m/  \u001b[01;34mtraining_set\u001b[0m/\n"
          ]
        }
      ]
    },
    {
      "cell_type": "code",
      "source": [
        "from keras.preprocessing.image import ImageDataGenerator\n",
        "\n",
        "train_datagen = ImageDataGenerator(rescale = 1./255,\n",
        "                                   shear_range = 0.2,\n",
        "                                   zoom_range = 0.2,\n",
        "                                   horizontal_flip = True)\n",
        "\n",
        "test_datagen = ImageDataGenerator(rescale = 1./255)\n",
        "\n",
        "training_set = train_datagen.flow_from_directory(r'/content/drive/MyDrive/dataset/Part 2 - Convolutional Neural Networks/dataset/training_set',\n",
        "                                                 target_size = (64, 64),\n",
        "                                                 batch_size = 4,\n",
        "                                                 class_mode = 'binary')\n",
        "\n",
        "test_set = test_datagen.flow_from_directory(r'/content/drive/MyDrive/dataset/Part 2 - Convolutional Neural Networks/dataset/test_set',\n",
        "                                            target_size = (64, 64),\n",
        "                                            batch_size = 4,\n",
        "                                            class_mode = 'binary')"
      ],
      "metadata": {
        "colab": {
          "base_uri": "https://localhost:8080/"
        },
        "id": "v5V4XmqgjMHu",
        "outputId": "2c3bd5fa-f121-4de2-c852-ff575b393b37"
      },
      "execution_count": 16,
      "outputs": [
        {
          "output_type": "stream",
          "name": "stdout",
          "text": [
            "Found 8000 images belonging to 2 classes.\n",
            "Found 2000 images belonging to 2 classes.\n"
          ]
        }
      ]
    },
    {
      "cell_type": "code",
      "source": [
        "# Part 2 - Creating the CNN model\n",
        "\n",
        "# Importing the Keras libraries and packages\n",
        "from keras.models import Sequential\n",
        "from keras.layers import Conv2D\n",
        "from keras.layers import MaxPooling2D\n",
        "from keras.layers import Flatten\n",
        "from keras.layers import Dense\n",
        "\n",
        "# Initialising the CNN\n",
        "classifier = Sequential()\n",
        "\n",
        "# Step 1 - Convolution\n",
        "classifier.add(Conv2D(32, (3, 3), input_shape = (64, 64, 3), activation = 'relu'))\n",
        "\n",
        "# Step 2 - Pooling\n",
        "classifier.add(MaxPooling2D(pool_size = (2, 2)))\n",
        "\n",
        "# Adding a second convolutional layer\n",
        "classifier.add(Conv2D(32, (3, 3), activation = 'relu'))\n",
        "classifier.add(MaxPooling2D(pool_size = (2, 2)))\n",
        "\n",
        "# Step 3 - Flattening\n",
        "classifier.add(Flatten())\n",
        "# Step 4 - Full connection\n",
        "classifier.add(Dense(units = 128, activation = 'relu'))\n",
        "classifier.add(Dense(units = 1, activation = 'sigmoid'))\n",
        "\n",
        "# Compiling the CNN\n",
        "classifier.compile(optimizer = 'adam', loss = 'binary_crossentropy', metrics = ['accuracy'])"
      ],
      "metadata": {
        "id": "LSsndkCtjQ3S"
      },
      "execution_count": 17,
      "outputs": []
    },
    {
      "cell_type": "code",
      "source": [
        "classifier.fit_generator(training_set,\n",
        "                         steps_per_epoch = 2000,\n",
        "                         epochs = 25,\n",
        "                         validation_data = test_set,\n",
        "                         validation_steps = 2000)"
      ],
      "metadata": {
        "colab": {
          "base_uri": "https://localhost:8080/"
        },
        "id": "2Guzde_Fjfw6",
        "outputId": "c11e6180-5bf7-49d4-b7af-fc6c92925120"
      },
      "execution_count": 18,
      "outputs": [
        {
          "output_type": "stream",
          "name": "stdout",
          "text": [
            "Epoch 1/25\n"
          ]
        },
        {
          "output_type": "stream",
          "name": "stderr",
          "text": [
            "/usr/local/lib/python3.7/dist-packages/ipykernel_launcher.py:5: UserWarning: `Model.fit_generator` is deprecated and will be removed in a future version. Please use `Model.fit`, which supports generators.\n",
            "  \"\"\"\n"
          ]
        },
        {
          "output_type": "stream",
          "name": "stdout",
          "text": [
            "2000/2000 [==============================] - ETA: 0s - loss: 0.6800 - accuracy: 0.5665"
          ]
        },
        {
          "output_type": "stream",
          "name": "stderr",
          "text": [
            "WARNING:tensorflow:Your input ran out of data; interrupting training. Make sure that your dataset or generator can generate at least `steps_per_epoch * epochs` batches (in this case, 2000 batches). You may need to use the repeat() function when building your dataset.\n"
          ]
        },
        {
          "output_type": "stream",
          "name": "stdout",
          "text": [
            "\b\b\b\b\b\b\b\b\b\b\b\b\b\b\b\b\b\b\b\b\b\b\b\b\b\b\b\b\b\b\b\b\b\b\b\b\b\b\b\b\b\b\b\b\b\b\b\b\b\b\b\b\b\b\b\b\b\b\b\b\b\b\b\b\b\b\b\b\b\b\b\b\b\b\b\b\b\b\b\b\b\b\b\b\b\b\r2000/2000 [==============================] - 295s 147ms/step - loss: 0.6800 - accuracy: 0.5665 - val_loss: 0.6408 - val_accuracy: 0.6575\n",
            "Epoch 2/25\n",
            "2000/2000 [==============================] - 85s 43ms/step - loss: 0.6386 - accuracy: 0.6430\n",
            "Epoch 3/25\n",
            "2000/2000 [==============================] - 85s 43ms/step - loss: 0.6034 - accuracy: 0.6773\n",
            "Epoch 4/25\n",
            "2000/2000 [==============================] - 86s 43ms/step - loss: 0.5774 - accuracy: 0.6981\n",
            "Epoch 5/25\n",
            "2000/2000 [==============================] - 85s 43ms/step - loss: 0.5527 - accuracy: 0.7175\n",
            "Epoch 6/25\n",
            "2000/2000 [==============================] - 85s 43ms/step - loss: 0.5237 - accuracy: 0.7393\n",
            "Epoch 7/25\n",
            "2000/2000 [==============================] - 85s 42ms/step - loss: 0.4953 - accuracy: 0.7582\n",
            "Epoch 8/25\n",
            "2000/2000 [==============================] - 85s 42ms/step - loss: 0.4790 - accuracy: 0.7656\n",
            "Epoch 9/25\n",
            "2000/2000 [==============================] - 85s 42ms/step - loss: 0.4549 - accuracy: 0.7843\n",
            "Epoch 10/25\n",
            "2000/2000 [==============================] - 85s 42ms/step - loss: 0.4396 - accuracy: 0.7940\n",
            "Epoch 11/25\n",
            "2000/2000 [==============================] - 85s 43ms/step - loss: 0.4354 - accuracy: 0.7995\n",
            "Epoch 12/25\n",
            "2000/2000 [==============================] - 85s 42ms/step - loss: 0.4103 - accuracy: 0.8096\n",
            "Epoch 13/25\n",
            "2000/2000 [==============================] - 85s 42ms/step - loss: 0.3956 - accuracy: 0.8232\n",
            "Epoch 14/25\n",
            "2000/2000 [==============================] - 85s 42ms/step - loss: 0.3767 - accuracy: 0.8291\n",
            "Epoch 15/25\n",
            "2000/2000 [==============================] - 84s 42ms/step - loss: 0.3671 - accuracy: 0.8381\n",
            "Epoch 16/25\n",
            "2000/2000 [==============================] - 83s 42ms/step - loss: 0.3543 - accuracy: 0.8494\n",
            "Epoch 17/25\n",
            "2000/2000 [==============================] - 85s 42ms/step - loss: 0.3371 - accuracy: 0.8570\n",
            "Epoch 18/25\n",
            "2000/2000 [==============================] - 84s 42ms/step - loss: 0.3220 - accuracy: 0.8629\n",
            "Epoch 19/25\n",
            "2000/2000 [==============================] - 84s 42ms/step - loss: 0.3093 - accuracy: 0.8683\n",
            "Epoch 20/25\n",
            "2000/2000 [==============================] - 84s 42ms/step - loss: 0.3063 - accuracy: 0.8687\n",
            "Epoch 21/25\n",
            "2000/2000 [==============================] - 84s 42ms/step - loss: 0.2898 - accuracy: 0.8802\n",
            "Epoch 22/25\n",
            "2000/2000 [==============================] - 85s 42ms/step - loss: 0.2737 - accuracy: 0.8850\n",
            "Epoch 23/25\n",
            "2000/2000 [==============================] - 85s 42ms/step - loss: 0.2695 - accuracy: 0.8892\n",
            "Epoch 24/25\n",
            "2000/2000 [==============================] - 84s 42ms/step - loss: 0.2528 - accuracy: 0.8986\n",
            "Epoch 25/25\n",
            "2000/2000 [==============================] - 84s 42ms/step - loss: 0.2458 - accuracy: 0.9004\n"
          ]
        },
        {
          "output_type": "execute_result",
          "data": {
            "text/plain": [
              "<keras.callbacks.History at 0x7f4b7d0b7d90>"
            ]
          },
          "metadata": {},
          "execution_count": 18
        }
      ]
    },
    {
      "cell_type": "code",
      "source": [
        "import numpy as np\n",
        "from keras.preprocessing import image\n",
        "test_image = image.load_img(r'/content/drive/MyDrive/dataset/Part 2 - Convolutional Neural Networks/dataset/single_prediction/cat_or_dog_1.jpg', target_size = (64, 64))\n",
        "test_image = image.img_to_array(test_image)\n",
        "test_image = np.expand_dims(test_image, axis = 0)\n",
        "result = classifier.predict(test_image)\n",
        "training_set.class_indices\n",
        "if result[0][0] == 1:\n",
        "    prediction = 'dog'\n",
        "    print('dog')\n",
        "else:\n",
        "    prediction = 'cat'\n",
        "    print('cat')"
      ],
      "metadata": {
        "colab": {
          "base_uri": "https://localhost:8080/"
        },
        "id": "7XDwu8b0jjr_",
        "outputId": "9ae5080a-3f7f-4ad3-fc0a-f37ffa610e72"
      },
      "execution_count": 19,
      "outputs": [
        {
          "output_type": "stream",
          "name": "stdout",
          "text": [
            "dog\n"
          ]
        }
      ]
    },
    {
      "cell_type": "code",
      "source": [],
      "metadata": {
        "id": "0-bLnGAF1J8a"
      },
      "execution_count": null,
      "outputs": []
    }
  ]
}